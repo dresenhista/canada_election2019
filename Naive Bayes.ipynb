{
 "cells": [
  {
   "cell_type": "markdown",
   "metadata": {},
   "source": [
    "# Analysing the Parties Press Release for 2019 Canadian Federal Election\n",
    "\n",
    "\n",
    "**Packages Used:**\n",
    "\n",
    "- Pandas\n",
    "- NumPy\n",
    "- Sklearn\n",
    "- [NLTK](https://www.nltk.org/): a convenient Python library for natural language processing.\n",
    "-------\n",
    "This project has two goals: \n",
    "1. explore correlation and word visuzalition based on the press release.\n",
    "2. predict the party based on the tone of the press release."
   ]
  },
  {
   "cell_type": "code",
   "execution_count": null,
   "metadata": {},
   "outputs": [],
   "source": []
  },
  {
   "cell_type": "code",
   "execution_count": 8,
   "metadata": {},
   "outputs": [],
   "source": [
    "import pandas as pd\n",
    "import numpy as np\n",
    "import sklearn\n",
    "import nltk\n",
    "from sklearn.model_selection import train_test_split\n"
   ]
  },
  {
   "cell_type": "code",
   "execution_count": 6,
   "metadata": {},
   "outputs": [
    {
     "data": {
      "text/html": [
       "<div>\n",
       "<style scoped>\n",
       "    .dataframe tbody tr th:only-of-type {\n",
       "        vertical-align: middle;\n",
       "    }\n",
       "\n",
       "    .dataframe tbody tr th {\n",
       "        vertical-align: top;\n",
       "    }\n",
       "\n",
       "    .dataframe thead th {\n",
       "        text-align: right;\n",
       "    }\n",
       "</style>\n",
       "<table border=\"1\" class=\"dataframe\">\n",
       "  <thead>\n",
       "    <tr style=\"text-align: right;\">\n",
       "      <th></th>\n",
       "      <th>party</th>\n",
       "      <th>url</th>\n",
       "      <th>content</th>\n",
       "      <th>date</th>\n",
       "    </tr>\n",
       "  </thead>\n",
       "  <tbody>\n",
       "    <tr>\n",
       "      <th>0</th>\n",
       "      <td>conservative</td>\n",
       "      <td>https://www.conservative.ca/a-new-conservative...</td>\n",
       "      <td>\\r\\nScheer to restore order, fairness, and com...</td>\n",
       "      <td>2019-10-09</td>\n",
       "    </tr>\n",
       "    <tr>\n",
       "      <th>1</th>\n",
       "      <td>conservative</td>\n",
       "      <td>https://www.conservative.ca/the-last-time-just...</td>\n",
       "      <td>\\r\\nTrudeau can’t be trusted to make life more...</td>\n",
       "      <td>2019-09-30</td>\n",
       "    </tr>\n",
       "    <tr>\n",
       "      <th>2</th>\n",
       "      <td>conservative</td>\n",
       "      <td>https://www.conservative.ca/the-hon-andrew-sch...</td>\n",
       "      <td>\\r\\nSEPTEMBER 29, 2019\\r\\nFOR IMMEDIATE RELEAS...</td>\n",
       "      <td>2019-09-29</td>\n",
       "    </tr>\n",
       "    <tr>\n",
       "      <th>3</th>\n",
       "      <td>conservative</td>\n",
       "      <td>https://www.conservative.ca/100-day-action-pla...</td>\n",
       "      <td>\\r\\nFamilies will start saving hundreds of dol...</td>\n",
       "      <td>2019-10-17</td>\n",
       "    </tr>\n",
       "    <tr>\n",
       "      <th>4</th>\n",
       "      <td>conservative</td>\n",
       "      <td>https://www.conservative.ca/justin-trudeau-ref...</td>\n",
       "      <td>\\r\\nTrudeau’s plan means less coverage and hig...</td>\n",
       "      <td>2019-09-23</td>\n",
       "    </tr>\n",
       "  </tbody>\n",
       "</table>\n",
       "</div>"
      ],
      "text/plain": [
       "          party                                                url  \\\n",
       "0  conservative  https://www.conservative.ca/a-new-conservative...   \n",
       "1  conservative  https://www.conservative.ca/the-last-time-just...   \n",
       "2  conservative  https://www.conservative.ca/the-hon-andrew-sch...   \n",
       "3  conservative  https://www.conservative.ca/100-day-action-pla...   \n",
       "4  conservative  https://www.conservative.ca/justin-trudeau-ref...   \n",
       "\n",
       "                                             content        date  \n",
       "0  \\r\\nScheer to restore order, fairness, and com...  2019-10-09  \n",
       "1  \\r\\nTrudeau can’t be trusted to make life more...  2019-09-30  \n",
       "2  \\r\\nSEPTEMBER 29, 2019\\r\\nFOR IMMEDIATE RELEAS...  2019-09-29  \n",
       "3  \\r\\nFamilies will start saving hundreds of dol...  2019-10-17  \n",
       "4  \\r\\nTrudeau’s plan means less coverage and hig...  2019-09-23  "
      ]
     },
     "execution_count": 6,
     "metadata": {},
     "output_type": "execute_result"
    }
   ],
   "source": [
    "df = pd.read_csv('canada_parties_pr.csv')\n",
    "df.head()"
   ]
  },
  {
   "cell_type": "code",
   "execution_count": 10,
   "metadata": {},
   "outputs": [
    {
     "data": {
      "text/plain": [
       "(337, 4)"
      ]
     },
     "execution_count": 10,
     "metadata": {},
     "output_type": "execute_result"
    }
   ],
   "source": [
    "df.shape"
   ]
  },
  {
   "cell_type": "code",
   "execution_count": 11,
   "metadata": {},
   "outputs": [
    {
     "name": "stdout",
     "output_type": "stream",
     "text": [
      "(269,) (269,) (68,) (68,)\n"
     ]
    }
   ],
   "source": [
    "y = df['party'].values\n",
    "X = df['content'].values\n",
    "\n",
    "msg_train, msg_test, y_train, y_test = train_test_split(X, y, test_size=0.2, stratify=y)\n",
    "print(msg_train.shape, y_train.shape, msg_test.shape, y_test.shape)"
   ]
  },
  {
   "cell_type": "code",
   "execution_count": null,
   "metadata": {},
   "outputs": [],
   "source": []
  },
  {
   "cell_type": "code",
   "execution_count": null,
   "metadata": {},
   "outputs": [],
   "source": []
  },
  {
   "cell_type": "code",
   "execution_count": null,
   "metadata": {},
   "outputs": [],
   "source": []
  },
  {
   "cell_type": "markdown",
   "metadata": {},
   "source": [
    "_Notebook by: Andresa de Andrade inspired by the work of François Maillet in the 2015 Federal election analysis._\n"
   ]
  },
  {
   "cell_type": "code",
   "execution_count": null,
   "metadata": {},
   "outputs": [],
   "source": []
  }
 ],
 "metadata": {
  "kernelspec": {
   "display_name": "Python 3",
   "language": "python",
   "name": "python3"
  },
  "language_info": {
   "codemirror_mode": {
    "name": "ipython",
    "version": 3
   },
   "file_extension": ".py",
   "mimetype": "text/x-python",
   "name": "python",
   "nbconvert_exporter": "python",
   "pygments_lexer": "ipython3",
   "version": "3.7.3"
  }
 },
 "nbformat": 4,
 "nbformat_minor": 2
}
