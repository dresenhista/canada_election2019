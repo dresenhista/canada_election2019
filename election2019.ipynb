{
 "cells": [
  {
   "cell_type": "markdown",
   "metadata": {},
   "source": [
    "# Analysing the Parties Press Release for 2019 Canadian Federal Election\n",
    "\n",
    "\n",
    "**Packages Used:**\n",
    "\n",
    "- Pandas\n",
    "- NumPy\n",
    "- Sklearn\n",
    "- [NLTK](https://www.nltk.org/): a convenient Python library for natural language processing.\n",
    "-------\n",
    "This project has two goals: \n",
    "1. explore correlation and word visuzalition based on the press release.\n",
    "2. predict the party based on the tone of the press release."
   ]
  },
  {
   "cell_type": "code",
   "execution_count": 1,
   "metadata": {},
   "outputs": [],
   "source": [
    "import pandas as pd\n",
    "import numpy as np\n",
    "import sklearn\n",
    "import nltk\n",
    "from nltk.corpus import stopwords\n",
    "from sklearn.model_selection import train_test_split\n",
    "\n",
    "import re \n",
    "from nltk.stem.porter import PorterStemmer \n",
    "from sklearn.feature_extraction.text import CountVectorizer \n",
    "from sklearn.preprocessing import OneHotEncoder, LabelEncoder\n",
    "from sklearn.naive_bayes import MultinomialNB\n",
    "from sklearn.metrics import confusion_matrix\n",
    "import scikitplot as skplt\n",
    "\n",
    "import warnings\n",
    "warnings.filterwarnings('ignore')"
   ]
  },
  {
   "cell_type": "markdown",
   "metadata": {},
   "source": [
    "## Naive Bayes classifier\n",
    "\n",
    "Naive Bayes classifier is built with the Bayes Theorem Assumption\n",
    "\n",
    "\n",
    "-- In the training set we calculate \n",
    "<center>\n",
    "    \\begin{align}\n",
    "    \\\\ P(X \\cap Y) = P(X| Y=y) P(Y)\n",
    "    \\end{align}\n",
    "</center>\n",
    "\n",
    "\n",
    "- And based on Bays we also have:\n",
    "\n",
    "<center>\n",
    "    \\begin{align}\n",
    "    \\\\ P(X \\cap Y) = P(Y│X=x) P(X)\n",
    "    \\end{align}\n",
    "</center>\n",
    "\n",
    "Which is what we apply in the testing set to predict the category.\n",
    "\n",
    "-------------------------------------\n",
    "With that our model recipe has to make the following calculations:\n",
    "\n",
    "**Training set**\n",
    "\n",
    "1. Calculate the frequency of each party press release in the training df\n",
    "2. Count how many times each word happens per party\n",
    "\n",
    "\n",
    "\n",
    "**Testing set**\n",
    "1. Calculate the # of words in a press release.\n",
    "2. Using the intersection function calculate the P(Y|X=x)\n",
    "\n",
    "\n"
   ]
  },
  {
   "cell_type": "code",
   "execution_count": 2,
   "metadata": {},
   "outputs": [
    {
     "data": {
      "text/html": [
       "<div>\n",
       "<style scoped>\n",
       "    .dataframe tbody tr th:only-of-type {\n",
       "        vertical-align: middle;\n",
       "    }\n",
       "\n",
       "    .dataframe tbody tr th {\n",
       "        vertical-align: top;\n",
       "    }\n",
       "\n",
       "    .dataframe thead th {\n",
       "        text-align: right;\n",
       "    }\n",
       "</style>\n",
       "<table border=\"1\" class=\"dataframe\">\n",
       "  <thead>\n",
       "    <tr style=\"text-align: right;\">\n",
       "      <th></th>\n",
       "      <th>party</th>\n",
       "      <th>url</th>\n",
       "      <th>content</th>\n",
       "      <th>date</th>\n",
       "    </tr>\n",
       "  </thead>\n",
       "  <tbody>\n",
       "    <tr>\n",
       "      <th>0</th>\n",
       "      <td>conservative</td>\n",
       "      <td>https://www.conservative.ca/the-hon-andrew-sch...</td>\n",
       "      <td>\\r\\nFOR IMMEDIATE RELEASE\\r\\nOttawa, ON – The ...</td>\n",
       "      <td>2019-07-11</td>\n",
       "    </tr>\n",
       "    <tr>\n",
       "      <th>1</th>\n",
       "      <td>conservative</td>\n",
       "      <td>https://www.conservative.ca/justin-trudeau-mus...</td>\n",
       "      <td>\\r\\nFOR IMMEDIATE RELEASE\\r\\n\\r\\nTORONTO, ON\\r...</td>\n",
       "      <td>2019-07-11</td>\n",
       "    </tr>\n",
       "    <tr>\n",
       "      <th>2</th>\n",
       "      <td>conservative</td>\n",
       "      <td>https://www.conservative.ca/justin-trudeaus-ba...</td>\n",
       "      <td>\\r\\nFOR IMMEDIATE RELEASE\\r\\nOTTAWA, ON – Pier...</td>\n",
       "      <td>2019-05-28</td>\n",
       "    </tr>\n",
       "    <tr>\n",
       "      <th>3</th>\n",
       "      <td>conservative</td>\n",
       "      <td>https://www.conservative.ca/conservatives-to-s...</td>\n",
       "      <td>\\r\\nNew conservative government to extend EI p...</td>\n",
       "      <td>2019-10-15</td>\n",
       "    </tr>\n",
       "    <tr>\n",
       "      <th>4</th>\n",
       "      <td>conservative</td>\n",
       "      <td>https://www.conservative.ca/andrew-scheer-reve...</td>\n",
       "      <td>\\r\\nConservatives unveil fully costed platform...</td>\n",
       "      <td>2019-10-11</td>\n",
       "    </tr>\n",
       "  </tbody>\n",
       "</table>\n",
       "</div>"
      ],
      "text/plain": [
       "          party                                                url  \\\n",
       "0  conservative  https://www.conservative.ca/the-hon-andrew-sch...   \n",
       "1  conservative  https://www.conservative.ca/justin-trudeau-mus...   \n",
       "2  conservative  https://www.conservative.ca/justin-trudeaus-ba...   \n",
       "3  conservative  https://www.conservative.ca/conservatives-to-s...   \n",
       "4  conservative  https://www.conservative.ca/andrew-scheer-reve...   \n",
       "\n",
       "                                             content        date  \n",
       "0  \\r\\nFOR IMMEDIATE RELEASE\\r\\nOttawa, ON – The ...  2019-07-11  \n",
       "1  \\r\\nFOR IMMEDIATE RELEASE\\r\\n\\r\\nTORONTO, ON\\r...  2019-07-11  \n",
       "2  \\r\\nFOR IMMEDIATE RELEASE\\r\\nOTTAWA, ON – Pier...  2019-05-28  \n",
       "3  \\r\\nNew conservative government to extend EI p...  2019-10-15  \n",
       "4  \\r\\nConservatives unveil fully costed platform...  2019-10-11  "
      ]
     },
     "execution_count": 2,
     "metadata": {},
     "output_type": "execute_result"
    }
   ],
   "source": [
    "df = pd.read_csv('canada_parties_pr.csv')\n",
    "df.head()"
   ]
  },
  {
   "cell_type": "code",
   "execution_count": 3,
   "metadata": {},
   "outputs": [
    {
     "data": {
      "text/plain": [
       "liberal         200\n",
       "conservative    185\n",
       "NDP             117\n",
       "Name: party, dtype: int64"
      ]
     },
     "execution_count": 3,
     "metadata": {},
     "output_type": "execute_result"
    }
   ],
   "source": [
    "df['party'].value_counts()"
   ]
  },
  {
   "cell_type": "code",
   "execution_count": 4,
   "metadata": {},
   "outputs": [
    {
     "data": {
      "text/plain": [
       "liberal         200\n",
       "conservative    185\n",
       "NDP             117\n",
       "Name: party, dtype: int64"
      ]
     },
     "execution_count": 4,
     "metadata": {},
     "output_type": "execute_result"
    }
   ],
   "source": [
    "df['party'].value_counts()"
   ]
  },
  {
   "cell_type": "code",
   "execution_count": 5,
   "metadata": {},
   "outputs": [],
   "source": [
    "#define the stop words\n",
    "stop_extra = ['*', '#', '?', '$', '!', '&',  '%', '\\'','\\'ll', '\"','\\'\\'' '\\'m', '\\'re', '\\'ve', '(', ')', '\\'s', '-', '--']\n",
    "stop = stopwords.words('english') + stop_extra"
   ]
  },
  {
   "cell_type": "code",
   "execution_count": 6,
   "metadata": {},
   "outputs": [],
   "source": [
    "#function that tokenize a sentence and cleans up\n",
    "def sentence_to_word(df, column_name, stop):\n",
    "    \n",
    "    #lower case\n",
    "    df[column_name] = df[column_name].apply(lambda string: string.lower())\n",
    "    df['words'] = df[column_name].apply(nltk.word_tokenize)\n",
    "    df['words'] = df['words'].apply(lambda x: [item for item in x if item not in stop])\n",
    "    df['words'] = df['words'].apply(lambda x: [item for item in x if item.isalpha()])\n",
    "    \n",
    "    return df"
   ]
  },
  {
   "cell_type": "code",
   "execution_count": 7,
   "metadata": {},
   "outputs": [],
   "source": [
    "#enconde the labels\n",
    "le = LabelEncoder()\n",
    "enc = OneHotEncoder()\n",
    "df['labels']=le.fit_transform(df[['party']])"
   ]
  },
  {
   "cell_type": "markdown",
   "metadata": {},
   "source": [
    "**The Labels are**"
   ]
  },
  {
   "cell_type": "code",
   "execution_count": 8,
   "metadata": {},
   "outputs": [
    {
     "data": {
      "text/html": [
       "<div>\n",
       "<style scoped>\n",
       "    .dataframe tbody tr th:only-of-type {\n",
       "        vertical-align: middle;\n",
       "    }\n",
       "\n",
       "    .dataframe tbody tr th {\n",
       "        vertical-align: top;\n",
       "    }\n",
       "\n",
       "    .dataframe thead th {\n",
       "        text-align: right;\n",
       "    }\n",
       "</style>\n",
       "<table border=\"1\" class=\"dataframe\">\n",
       "  <thead>\n",
       "    <tr style=\"text-align: right;\">\n",
       "      <th></th>\n",
       "      <th>labels</th>\n",
       "      <th>party</th>\n",
       "    </tr>\n",
       "  </thead>\n",
       "  <tbody>\n",
       "    <tr>\n",
       "      <th>184</th>\n",
       "      <td>1</td>\n",
       "      <td>conservative</td>\n",
       "    </tr>\n",
       "    <tr>\n",
       "      <th>384</th>\n",
       "      <td>2</td>\n",
       "      <td>liberal</td>\n",
       "    </tr>\n",
       "    <tr>\n",
       "      <th>501</th>\n",
       "      <td>0</td>\n",
       "      <td>NDP</td>\n",
       "    </tr>\n",
       "  </tbody>\n",
       "</table>\n",
       "</div>"
      ],
      "text/plain": [
       "     labels         party\n",
       "184       1  conservative\n",
       "384       2       liberal\n",
       "501       0           NDP"
      ]
     },
     "execution_count": 8,
     "metadata": {},
     "output_type": "execute_result"
    }
   ],
   "source": [
    "df[['labels', 'party']].drop_duplicates(keep='last')"
   ]
  },
  {
   "cell_type": "code",
   "execution_count": 12,
   "metadata": {},
   "outputs": [],
   "source": [
    "#separate test and training\n",
    "y = df['labels']\n",
    "X = df['content']\n",
    "\n",
    "X_train, X_test, y_train, y_test = train_test_split(X, y, test_size=0.2, random_state=42)\n",
    "\n",
    "#print(f'test size: '{len(X_test)}' and training size: ')"
   ]
  },
  {
   "cell_type": "code",
   "execution_count": 13,
   "metadata": {},
   "outputs": [
    {
     "data": {
      "image/png": "[encoded data removed]",
      "text/plain": [
       "<Figure size 432x288 with 2 Axes>"
      ]
     },
     "metadata": {
      "needs_background": "light"
     },
     "output_type": "display_data"
    }
   ],
   "source": [
    "#vectorized the words in the keyword\n",
    "vect = CountVectorizer()\n",
    "X_train_vectorized = vect.fit_transform(X_train)\n",
    "ndf = pd.SparseDataFrame(\n",
    "    X_train_vectorized.toarray(), columns=vect.get_feature_names()\n",
    ")\n",
    "\n",
    "#apply pre made model\n",
    "clfrNB = MultinomialNB(alpha=0.1)\n",
    "clfrNB.fit(X_train_vectorized, y_train)\n",
    "y_pred = clfrNB.predict(vect.transform(X_test))\n",
    "skplt.metrics.plot_confusion_matrix(y_test, y_pred);\n"
   ]
  },
  {
   "cell_type": "code",
   "execution_count": 29,
   "metadata": {},
   "outputs": [],
   "source": [
    "#tokenize the press release and lower case and remove stop words\n",
    "training_set = pd.DataFrame(data = {'party': y_train, \"content\":X_train})\n",
    "training_set = sentence_to_word(training_set, 'content', stop)"
   ]
  },
  {
   "cell_type": "code",
   "execution_count": 87,
   "metadata": {},
   "outputs": [],
   "source": [
    "#counts the frequency\n",
    "rows = list()\n",
    "for row in training_set[['party', 'words']].iterrows():\n",
    "    r = row[1]\n",
    "    #print(r)\n",
    "    for word in r.words:\n",
    "        rows.append((r.party, word))\n",
    "single_words = pd.DataFrame(rows, columns=['party', 'word'])\n",
    "single_words['counter'] = 1\n",
    "\n",
    "\n",
    "\n",
    "#count total words of party\n",
    "single_words['n_parties']= single_words.groupby('party')['counter'].transform('sum')\n",
    "\n",
    "#count the frequency of words\n",
    "counts = single_words.groupby('word')\\\n",
    "    .agg({'counter':'sum'})\\\n",
    "    .rename(columns={'counter':'n_w'})\n",
    "counts = counts.reset_index(level=['word'])\n",
    "\n",
    "#counts the frequency of words by party\n",
    "counts2 = single_words.groupby(['word', 'party'])\\\n",
    "    .agg({'counter':'sum'})\\\n",
    "    .rename(columns={'counter':'n_wp'})\n",
    "counts2 = counts2.reset_index()"
   ]
  },
  {
   "cell_type": "markdown",
   "metadata": {},
   "source": [
    "-> next steps \n",
    "the current code is not calculating the probability of not being in that category\n",
    "I need to find a way to add the missing category in training set using the Laplace smoother. A good example is the word yazidis that has only one records when it should have had 3. \n",
    "\n",
    "The next step is make this into a function so I can apply into the news."
   ]
  },
  {
   "cell_type": "code",
   "execution_count": null,
   "metadata": {},
   "outputs": [],
   "source": [
    "contigence_table[contigence_table['word']=='yazidis']"
   ]
  },
  {
   "cell_type": "code",
   "execution_count": 88,
   "metadata": {},
   "outputs": [
    {
     "data": {
      "text/html": [
       "<div>\n",
       "<style scoped>\n",
       "    .dataframe tbody tr th:only-of-type {\n",
       "        vertical-align: middle;\n",
       "    }\n",
       "\n",
       "    .dataframe tbody tr th {\n",
       "        vertical-align: top;\n",
       "    }\n",
       "\n",
       "    .dataframe thead th {\n",
       "        text-align: right;\n",
       "    }\n",
       "</style>\n",
       "<table border=\"1\" class=\"dataframe\">\n",
       "  <thead>\n",
       "    <tr style=\"text-align: right;\">\n",
       "      <th></th>\n",
       "      <th>party</th>\n",
       "      <th>word</th>\n",
       "      <th>counter</th>\n",
       "      <th>n_parties</th>\n",
       "      <th>n_w</th>\n",
       "      <th>n</th>\n",
       "      <th>n_wp</th>\n",
       "      <th>unique_words</th>\n",
       "      <th>prob_y</th>\n",
       "      <th>prob_xgy</th>\n",
       "    </tr>\n",
       "  </thead>\n",
       "  <tbody>\n",
       "    <tr>\n",
       "      <th>0</th>\n",
       "      <td>0</td>\n",
       "      <td>families</td>\n",
       "      <td>1</td>\n",
       "      <td>14427</td>\n",
       "      <td>247</td>\n",
       "      <td>66519</td>\n",
       "      <td>59</td>\n",
       "      <td>7679</td>\n",
       "      <td>0.216885</td>\n",
       "      <td>0.011219</td>\n",
       "    </tr>\n",
       "    <tr>\n",
       "      <th>1</th>\n",
       "      <td>1</td>\n",
       "      <td>families</td>\n",
       "      <td>1</td>\n",
       "      <td>25291</td>\n",
       "      <td>247</td>\n",
       "      <td>66519</td>\n",
       "      <td>75</td>\n",
       "      <td>7679</td>\n",
       "      <td>0.380207</td>\n",
       "      <td>0.007522</td>\n",
       "    </tr>\n",
       "    <tr>\n",
       "      <th>2</th>\n",
       "      <td>2</td>\n",
       "      <td>families</td>\n",
       "      <td>1</td>\n",
       "      <td>26801</td>\n",
       "      <td>247</td>\n",
       "      <td>66519</td>\n",
       "      <td>113</td>\n",
       "      <td>7679</td>\n",
       "      <td>0.402907</td>\n",
       "      <td>0.007193</td>\n",
       "    </tr>\n",
       "    <tr>\n",
       "      <th>3</th>\n",
       "      <td>0</td>\n",
       "      <td>go</td>\n",
       "      <td>1</td>\n",
       "      <td>14427</td>\n",
       "      <td>68</td>\n",
       "      <td>66519</td>\n",
       "      <td>12</td>\n",
       "      <td>7679</td>\n",
       "      <td>0.216885</td>\n",
       "      <td>0.003121</td>\n",
       "    </tr>\n",
       "    <tr>\n",
       "      <th>4</th>\n",
       "      <td>1</td>\n",
       "      <td>go</td>\n",
       "      <td>1</td>\n",
       "      <td>25291</td>\n",
       "      <td>68</td>\n",
       "      <td>66519</td>\n",
       "      <td>17</td>\n",
       "      <td>7679</td>\n",
       "      <td>0.380207</td>\n",
       "      <td>0.002093</td>\n",
       "    </tr>\n",
       "  </tbody>\n",
       "</table>\n",
       "</div>"
      ],
      "text/plain": [
       "   party      word  counter  n_parties  n_w      n  n_wp  unique_words  \\\n",
       "0      0  families        1      14427  247  66519    59          7679   \n",
       "1      1  families        1      25291  247  66519    75          7679   \n",
       "2      2  families        1      26801  247  66519   113          7679   \n",
       "3      0        go        1      14427   68  66519    12          7679   \n",
       "4      1        go        1      25291   68  66519    17          7679   \n",
       "\n",
       "     prob_y  prob_xgy  \n",
       "0  0.216885  0.011219  \n",
       "1  0.380207  0.007522  \n",
       "2  0.402907  0.007193  \n",
       "3  0.216885  0.003121  \n",
       "4  0.380207  0.002093  "
      ]
     },
     "execution_count": 88,
     "metadata": {},
     "output_type": "execute_result"
    }
   ],
   "source": [
    "#created the contigence table\n",
    "contigence_table = pd.merge(single_words, counts, on=['word'])\n",
    "contigence_table['n'] =len(contigence_table['word'])\n",
    "contigence_table = contigence_table.drop_duplicates(keep='last')\n",
    "contigence_table = pd.merge(contigence_table, counts2, on=['word', 'party'])\n",
    "n_uniques = contigence_table['word'].nunique()\n",
    "contigence_table['unique_words'] = n_uniques\n",
    "contigence_table['prob_y'] = contigence_table['n_parties']/contigence_table['n']\n",
    "#contigence_table['prob_x'] = (1 + contigence_table['n_w'])/contigence_table['n'] #+1 forlaplace smoother\n",
    "#contigence_table['prob_xay'] = (1 + contigence_table['n_wp'])/contigence_table['n'] #+1 forlaplace smoother\n",
    "contigence_table['prob_xgy'] = (1 + contigence_table['n_w'])/(contigence_table['unique_words']+contigence_table['n_parties']) #+1 forlaplace smoother\n",
    "#contigence_table['prob_ygx'] = (1 + contigence_table['n_wp'])/contigence_table['n_parties'] #+1 forlaplace smoother\n",
    "\n",
    "contigence_table.head()"
   ]
  },
  {
   "cell_type": "code",
   "execution_count": 89,
   "metadata": {},
   "outputs": [],
   "source": [
    "party = contigence_table[['party', 'prob_y', 'n_parties', 'unique_words', ]].drop_duplicates(keep='last')\n"
   ]
  },
  {
   "cell_type": "markdown",
   "metadata": {},
   "source": [
    "## Testing set\n",
    "Now that we have the probabilities calculated, we can try to predict the party or the political view given the words used.\n"
   ]
  },
  {
   "cell_type": "code",
   "execution_count": 148,
   "metadata": {},
   "outputs": [
    {
     "data": {
      "text/html": [
       "<div>\n",
       "<style scoped>\n",
       "    .dataframe tbody tr th:only-of-type {\n",
       "        vertical-align: middle;\n",
       "    }\n",
       "\n",
       "    .dataframe tbody tr th {\n",
       "        vertical-align: top;\n",
       "    }\n",
       "\n",
       "    .dataframe thead th {\n",
       "        text-align: right;\n",
       "    }\n",
       "</style>\n",
       "<table border=\"1\" class=\"dataframe\">\n",
       "  <thead>\n",
       "    <tr style=\"text-align: right;\">\n",
       "      <th></th>\n",
       "      <th>content</th>\n",
       "      <th>word</th>\n",
       "      <th>party_real</th>\n",
       "      <th>party_pred</th>\n",
       "      <th>prob_xgy</th>\n",
       "      <th>prob_y</th>\n",
       "    </tr>\n",
       "  </thead>\n",
       "  <tbody>\n",
       "    <tr>\n",
       "      <th>93987</th>\n",
       "      <td>\\r\\n\\r\\njune 20, 2019 \\r\\n\\r\\n\\r\\nfor immediat...</td>\n",
       "      <td>yazidis</td>\n",
       "      <td>1</td>\n",
       "      <td>1.0</td>\n",
       "      <td>0.000061</td>\n",
       "      <td>0.380207</td>\n",
       "    </tr>\n",
       "  </tbody>\n",
       "</table>\n",
       "</div>"
      ],
      "text/plain": [
       "                                                 content     word  party_real  \\\n",
       "93987  \\r\\n\\r\\njune 20, 2019 \\r\\n\\r\\n\\r\\nfor immediat...  yazidis           1   \n",
       "\n",
       "       party_pred  prob_xgy    prob_y  \n",
       "93987         1.0  0.000061  0.380207  "
      ]
     },
     "execution_count": 148,
     "metadata": {},
     "output_type": "execute_result"
    }
   ],
   "source": [
    "#Step 6 tokenize the keywords in the testing set\n",
    "test_df = pd.DataFrame(data={'content': X_test, 'party_real': y_test})\n",
    "test_df = sentence_to_word(test_df, 'content', stop)\n",
    "\n",
    "\n",
    "rows = list()\n",
    "for row in test_df[['content','party_real','words']].iterrows():\n",
    "    r = row[1]\n",
    "    #print(r)\n",
    "    for word in r.words:\n",
    "        rows.append((r.content, r.party_real, word))\n",
    "\n",
    "test_df = pd.DataFrame(rows, columns=['content','party_real', 'word'])\n",
    "\n",
    "\n",
    "\n",
    "#applies the Laplace smoother for the words that are not present in the training dataset\n",
    "test_df = pd.merge(test_df, contigence_table[['party','word', 'prob_xgy']],  on=['word'], how='left')\n",
    "test_df.rename(columns  = {\"party\": \"party_training\"},inplace = True) \n",
    "\n",
    "\n",
    "#matrix product to reproduce party  by row\n",
    "product = pd.MultiIndex.from_product([test_df['word'], party['party']], names = [\"word\", \"party_null\"])\n",
    "product = pd.DataFrame(index = product).reset_index()\n",
    "product = product.drop_duplicates(keep='last')\n",
    "test_df = pd.merge(product, test_df, on = ['word'])\n",
    "\n",
    "#get the party unique_words, p_y and n_parties\n",
    "test_df = pd.merge(party, test_df, left_on = ['party'], right_on =['party_null'])\n",
    "\n",
    "test_df = test_df.sort_values(by=['content','word', 'party_training'] , ascending = [True, False, True])\n",
    "#fills out the pred party for the words not present in the training dataset\n",
    "test_df['prob_xgy'] = test_df['prob_xgy'].fillna(1/(test_df['unique_words']+test_df['n_parties']))\n",
    "test_df['party_pred'] = np.where(test_df['party_training'].isnull(), test_df['party_null'], test_df['party_training'])\n",
    "test_df = test_df[test_df['party']==test_df['party_pred']]\n",
    "test_df = test_df[['content', 'word','party_real','party_pred', 'prob_xgy', 'prob_y']]\n",
    "\n",
    "\n",
    "test_df = test_df.drop_duplicates(keep='last')\n",
    "\n",
    "test_df.head()\n",
    "test_df[test_df['word']=='yazidis'].head(10)\n"
   ]
  },
  {
   "cell_type": "code",
   "execution_count": 193,
   "metadata": {},
   "outputs": [
    {
     "data": {
      "text/html": [
       "<div>\n",
       "<style scoped>\n",
       "    .dataframe tbody tr th:only-of-type {\n",
       "        vertical-align: middle;\n",
       "    }\n",
       "\n",
       "    .dataframe tbody tr th {\n",
       "        vertical-align: top;\n",
       "    }\n",
       "\n",
       "    .dataframe thead th {\n",
       "        text-align: right;\n",
       "    }\n",
       "</style>\n",
       "<table border=\"1\" class=\"dataframe\">\n",
       "  <thead>\n",
       "    <tr style=\"text-align: right;\">\n",
       "      <th></th>\n",
       "      <th>word</th>\n",
       "      <th>party</th>\n",
       "      <th>prob_x</th>\n",
       "      <th>prob_xay</th>\n",
       "      <th>prob_xgy</th>\n",
       "      <th>prob_y</th>\n",
       "      <th>total_words_per_party</th>\n",
       "    </tr>\n",
       "  </thead>\n",
       "  <tbody>\n",
       "    <tr>\n",
       "      <th>0</th>\n",
       "      <td>share</td>\n",
       "      <td>2</td>\n",
       "      <td>0.002915</td>\n",
       "      <td>0.003058</td>\n",
       "      <td>0.007388</td>\n",
       "      <td>0.413965</td>\n",
       "      <td>26801</td>\n",
       "    </tr>\n",
       "    <tr>\n",
       "      <th>1</th>\n",
       "      <td>ottawa</td>\n",
       "      <td>2</td>\n",
       "      <td>0.001700</td>\n",
       "      <td>0.002348</td>\n",
       "      <td>0.005671</td>\n",
       "      <td>0.413965</td>\n",
       "      <td>26801</td>\n",
       "    </tr>\n",
       "    <tr>\n",
       "      <th>2</th>\n",
       "      <td>justin</td>\n",
       "      <td>2</td>\n",
       "      <td>0.012025</td>\n",
       "      <td>0.011878</td>\n",
       "      <td>0.028693</td>\n",
       "      <td>0.413965</td>\n",
       "      <td>26801</td>\n",
       "    </tr>\n",
       "    <tr>\n",
       "      <th>3</th>\n",
       "      <td>trudeau</td>\n",
       "      <td>2</td>\n",
       "      <td>0.019981</td>\n",
       "      <td>0.020141</td>\n",
       "      <td>0.048655</td>\n",
       "      <td>0.413965</td>\n",
       "      <td>26801</td>\n",
       "    </tr>\n",
       "    <tr>\n",
       "      <th>4</th>\n",
       "      <td>leader</td>\n",
       "      <td>2</td>\n",
       "      <td>0.005284</td>\n",
       "      <td>0.005236</td>\n",
       "      <td>0.012649</td>\n",
       "      <td>0.413965</td>\n",
       "      <td>26801</td>\n",
       "    </tr>\n",
       "  </tbody>\n",
       "</table>\n",
       "</div>"
      ],
      "text/plain": [
       "      word  party    prob_x  prob_xay  prob_xgy    prob_y  \\\n",
       "0    share      2  0.002915  0.003058  0.007388  0.413965   \n",
       "1   ottawa      2  0.001700  0.002348  0.005671  0.413965   \n",
       "2   justin      2  0.012025  0.011878  0.028693  0.413965   \n",
       "3  trudeau      2  0.019981  0.020141  0.048655  0.413965   \n",
       "4   leader      2  0.005284  0.005236  0.012649  0.413965   \n",
       "\n",
       "   total_words_per_party  \n",
       "0                  26801  \n",
       "1                  26801  \n",
       "2                  26801  \n",
       "3                  26801  \n",
       "4                  26801  "
      ]
     },
     "execution_count": 193,
     "metadata": {},
     "output_type": "execute_result"
    }
   ],
   "source": [
    "probability = pd.MultiIndex.from_product([x_test_prob['word'], y_prob['party']], names = [\"word\", \"party\"])\n",
    "probability = pd.DataFrame(index = probability).reset_index()\n",
    "probability = pd.merge(probability, x_test_prob, on = ['word'])\n",
    "probability = pd.merge(probability, x_train, how='left', on = ['word', 'party'])\n",
    "probability = pd.merge(probability, y_prob, how='inner', on = ['party'])\n",
    "\n",
    "probability.head()"
   ]
  },
  {
   "cell_type": "code",
   "execution_count": 194,
   "metadata": {},
   "outputs": [],
   "source": [
    "#fill the nulls using the laplace smoother\n",
    "probability['prob_xay'] = probability['prob_xay'].fillna(1/probability['total_words_per_party'])"
   ]
  },
  {
   "cell_type": "code",
   "execution_count": 219,
   "metadata": {},
   "outputs": [],
   "source": [
    "test_df = pd.DataFrame(rows, columns=['content', 'word'])\n",
    "test_df = pd.merge(test_df, probability, how = 'inner', on=['word'])"
   ]
  },
  {
   "cell_type": "code",
   "execution_count": 220,
   "metadata": {},
   "outputs": [
    {
     "data": {
      "text/html": [
       "<div>\n",
       "<style scoped>\n",
       "    .dataframe tbody tr th:only-of-type {\n",
       "        vertical-align: middle;\n",
       "    }\n",
       "\n",
       "    .dataframe tbody tr th {\n",
       "        vertical-align: top;\n",
       "    }\n",
       "\n",
       "    .dataframe thead th {\n",
       "        text-align: right;\n",
       "    }\n",
       "</style>\n",
       "<table border=\"1\" class=\"dataframe\">\n",
       "  <thead>\n",
       "    <tr style=\"text-align: right;\">\n",
       "      <th></th>\n",
       "      <th>content</th>\n",
       "      <th>party</th>\n",
       "      <th>prob_xay</th>\n",
       "      <th>prob_ygx</th>\n",
       "      <th>word</th>\n",
       "    </tr>\n",
       "  </thead>\n",
       "  <tbody>\n",
       "    <tr>\n",
       "      <th>0</th>\n",
       "      <td>\\r\\n\\r\\nshare\\r\\n\\r\\n\\r\\n\\r\\n\\r\\n\\r\\nottawa, o...</td>\n",
       "      <td>2</td>\n",
       "      <td>0.003058</td>\n",
       "      <td>1.049119</td>\n",
       "      <td>share</td>\n",
       "    </tr>\n",
       "    <tr>\n",
       "      <th>1</th>\n",
       "      <td>\\r\\n\\r\\nshare\\r\\n\\r\\n\\r\\n\\r\\n\\r\\n\\r\\nottawa, o...</td>\n",
       "      <td>0</td>\n",
       "      <td>0.003046</td>\n",
       "      <td>1.044917</td>\n",
       "      <td>share</td>\n",
       "    </tr>\n",
       "    <tr>\n",
       "      <th>2</th>\n",
       "      <td>\\r\\n\\r\\nshare\\r\\n\\r\\n\\r\\n\\r\\n\\r\\n\\r\\nottawa, o...</td>\n",
       "      <td>1</td>\n",
       "      <td>0.002850</td>\n",
       "      <td>0.977810</td>\n",
       "      <td>share</td>\n",
       "    </tr>\n",
       "    <tr>\n",
       "      <th>3</th>\n",
       "      <td>\\r\\n\\r\\nshare\\r\\n\\r\\n\\r\\n\\r\\n\\r\\n\\r\\nst. john’...</td>\n",
       "      <td>2</td>\n",
       "      <td>0.003058</td>\n",
       "      <td>1.049119</td>\n",
       "      <td>share</td>\n",
       "    </tr>\n",
       "    <tr>\n",
       "      <th>4</th>\n",
       "      <td>\\r\\n\\r\\nshare\\r\\n\\r\\n\\r\\n\\r\\n\\r\\n\\r\\nst. john’...</td>\n",
       "      <td>0</td>\n",
       "      <td>0.003046</td>\n",
       "      <td>1.044917</td>\n",
       "      <td>share</td>\n",
       "    </tr>\n",
       "  </tbody>\n",
       "</table>\n",
       "</div>"
      ],
      "text/plain": [
       "                                             content  party  prob_xay  \\\n",
       "0  \\r\\n\\r\\nshare\\r\\n\\r\\n\\r\\n\\r\\n\\r\\n\\r\\nottawa, o...      2  0.003058   \n",
       "1  \\r\\n\\r\\nshare\\r\\n\\r\\n\\r\\n\\r\\n\\r\\n\\r\\nottawa, o...      0  0.003046   \n",
       "2  \\r\\n\\r\\nshare\\r\\n\\r\\n\\r\\n\\r\\n\\r\\n\\r\\nottawa, o...      1  0.002850   \n",
       "3  \\r\\n\\r\\nshare\\r\\n\\r\\n\\r\\n\\r\\n\\r\\n\\r\\nst. john’...      2  0.003058   \n",
       "4  \\r\\n\\r\\nshare\\r\\n\\r\\n\\r\\n\\r\\n\\r\\n\\r\\nst. john’...      0  0.003046   \n",
       "\n",
       "   prob_ygx   word  \n",
       "0  1.049119  share  \n",
       "1  1.044917  share  \n",
       "2  0.977810  share  \n",
       "3  1.049119  share  \n",
       "4  1.044917  share  "
      ]
     },
     "execution_count": 220,
     "metadata": {},
     "output_type": "execute_result"
    }
   ],
   "source": [
    "#now we merge back to the original testing dataframe\n",
    "test_df['prob_ygx'] = test_df['prob_xay']/ test_df['prob_x']\n",
    "test_df = test_df[test_df.columns.difference(['prob_x', 'prob_xgy', 'prob_y', 'total_words_per_party'])]\n",
    "test_df.head()"
   ]
  },
  {
   "cell_type": "code",
   "execution_count": 221,
   "metadata": {},
   "outputs": [
    {
     "data": {
      "text/html": [
       "<div>\n",
       "<style scoped>\n",
       "    .dataframe tbody tr th:only-of-type {\n",
       "        vertical-align: middle;\n",
       "    }\n",
       "\n",
       "    .dataframe tbody tr th {\n",
       "        vertical-align: top;\n",
       "    }\n",
       "\n",
       "    .dataframe thead th {\n",
       "        text-align: right;\n",
       "    }\n",
       "</style>\n",
       "<table border=\"1\" class=\"dataframe\">\n",
       "  <thead>\n",
       "    <tr style=\"text-align: right;\">\n",
       "      <th></th>\n",
       "      <th>content</th>\n",
       "      <th>party_pred</th>\n",
       "      <th>prob_xay</th>\n",
       "      <th>prob_ygx</th>\n",
       "    </tr>\n",
       "  </thead>\n",
       "  <tbody>\n",
       "    <tr>\n",
       "      <th>0</th>\n",
       "      <td>\\r\\n\\r\\njune 20, 2019 \\r\\n\\r\\n\\r\\nfor immediat...</td>\n",
       "      <td>0</td>\n",
       "      <td>0.0</td>\n",
       "      <td>0.0</td>\n",
       "    </tr>\n",
       "    <tr>\n",
       "      <th>1</th>\n",
       "      <td>\\r\\n\\r\\njune 20, 2019 \\r\\n\\r\\n\\r\\nfor immediat...</td>\n",
       "      <td>1</td>\n",
       "      <td>0.0</td>\n",
       "      <td>0.0</td>\n",
       "    </tr>\n",
       "    <tr>\n",
       "      <th>2</th>\n",
       "      <td>\\r\\n\\r\\njune 20, 2019 \\r\\n\\r\\n\\r\\nfor immediat...</td>\n",
       "      <td>2</td>\n",
       "      <td>0.0</td>\n",
       "      <td>0.0</td>\n",
       "    </tr>\n",
       "    <tr>\n",
       "      <th>3</th>\n",
       "      <td>\\r\\n\\r\\nshare\\r\\n\\r\\n\\r\\n\\r\\n\\r\\n\\r\\nbrockvill...</td>\n",
       "      <td>0</td>\n",
       "      <td>0.0</td>\n",
       "      <td>0.0</td>\n",
       "    </tr>\n",
       "    <tr>\n",
       "      <th>4</th>\n",
       "      <td>\\r\\n\\r\\nshare\\r\\n\\r\\n\\r\\n\\r\\n\\r\\n\\r\\nbrockvill...</td>\n",
       "      <td>1</td>\n",
       "      <td>0.0</td>\n",
       "      <td>0.0</td>\n",
       "    </tr>\n",
       "  </tbody>\n",
       "</table>\n",
       "</div>"
      ],
      "text/plain": [
       "                                             content  party_pred  prob_xay  \\\n",
       "0  \\r\\n\\r\\njune 20, 2019 \\r\\n\\r\\n\\r\\nfor immediat...           0       0.0   \n",
       "1  \\r\\n\\r\\njune 20, 2019 \\r\\n\\r\\n\\r\\nfor immediat...           1       0.0   \n",
       "2  \\r\\n\\r\\njune 20, 2019 \\r\\n\\r\\n\\r\\nfor immediat...           2       0.0   \n",
       "3  \\r\\n\\r\\nshare\\r\\n\\r\\n\\r\\n\\r\\n\\r\\n\\r\\nbrockvill...           0       0.0   \n",
       "4  \\r\\n\\r\\nshare\\r\\n\\r\\n\\r\\n\\r\\n\\r\\n\\r\\nbrockvill...           1       0.0   \n",
       "\n",
       "   prob_ygx  \n",
       "0       0.0  \n",
       "1       0.0  \n",
       "2       0.0  \n",
       "3       0.0  \n",
       "4       0.0  "
      ]
     },
     "execution_count": 221,
     "metadata": {},
     "output_type": "execute_result"
    }
   ],
   "source": [
    "test_df =  test_df[['content','party', 'prob_xay']].groupby(['content', 'party']).prod()\n",
    "test_df = test_df.reset_index()\n",
    "\n",
    "#normalize\n",
    "test_df['prob_ygx'] = (test_df['prob_xay']) / (test_df['prob_xay'].max() - test_df['prob_xay'].min())\n",
    "test_df = test_df.sort_values(by=['content','prob_xay'] , ascending = [True, False])\n",
    "\n",
    "\n",
    "#change the column party name to receive the real\n",
    "test_df.rename(columns  = {\"party\": \"party_pred\"},inplace = True) \n",
    "\n",
    "\n",
    "#test_df = pd.merge(test_df, df, how='left', on=['content'])\n",
    "test_df.head()\n"
   ]
  },
  {
   "cell_type": "code",
   "execution_count": 222,
   "metadata": {},
   "outputs": [
    {
     "data": {
      "text/plain": [
       "party                                           conservative\n",
       "url        https://www.conservative.ca/conservatives-call...\n",
       "content    \\r\\nfor immediate release\\r\\n \\r\\nottawa, on\\r...\n",
       "date                                              2019-07-26\n",
       "labels                                                     1\n",
       "Name: 103, dtype: object"
      ]
     },
     "execution_count": 222,
     "metadata": {},
     "output_type": "execute_result"
    }
   ],
   "source": [
    "df.loc[103]"
   ]
  },
  {
   "cell_type": "code",
   "execution_count": 223,
   "metadata": {},
   "outputs": [
    {
     "data": {
      "image/png": "[encoded data removed]",
      "text/plain": [
       "<Figure size 432x288 with 2 Axes>"
      ]
     },
     "metadata": {
      "needs_background": "light"
     },
     "output_type": "display_data"
    }
   ],
   "source": [
    "df['content'] = df['content'].apply(lambda string: string.lower())\n",
    "test = pd.merge(test_df, df[['party', 'content']], how='inner', on=['content'])\n",
    "test = test.drop_duplicates(keep='last')\n",
    "test = test[['content', 'party_pred','party', 'prob_ygx']]\n",
    "test = test.loc[test.groupby('content').prob_ygx.agg('idxmax')]\n",
    "test['party_pred'] = test['party_pred'].replace({0:'NDP' , 1: 'conservative', 2:'liberal'})\n",
    "skplt.metrics.plot_confusion_matrix(test['party'], test['party_pred']);\n"
   ]
  },
  {
   "cell_type": "markdown",
   "metadata": {},
   "source": [
    "_Notebook by: Andresa de Andrade inspired by the work of François Maillet in the 2015 Federal election analysis._\n"
   ]
  }
 ],
 "metadata": {
  "kernelspec": {
   "display_name": "Python 3",
   "language": "python",
   "name": "python3"
  },
  "language_info": {
   "codemirror_mode": {
    "name": "ipython",
    "version": 3
   },
   "file_extension": ".py",
   "mimetype": "text/x-python",
   "name": "python",
   "nbconvert_exporter": "python",
   "pygments_lexer": "ipython3",
   "version": "3.7.1"
  }
 },
 "nbformat": 4,
 "nbformat_minor": 2
}
