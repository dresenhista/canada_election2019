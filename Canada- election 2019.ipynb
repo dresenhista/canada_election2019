{
 "cells": [
  {
   "cell_type": "markdown",
   "metadata": {},
   "source": [
    "# Motivation \n",
    "\n",
    "In October 2019 Canadians went to polls to vote for Prime Minister. The 10 months that preceed the voting were marked by polytical campaigning and by many releases from the press. This post has as goal to show how you can use a machine learning technique to verify if a press article has any bias (polytical or others but in this case we are testing polytical bias.\n",
    "\n",
    "All of the files for this project can be found in the Github repository here: https://github.com/dresenhista/canada_election2019\n",
    "\n",
    "## Assumptions and Preparation\n",
    "To simplify our calculations, I am only using Canada's top 3 parties:\n",
    " - Conservative Party\n",
    " - Liberal Party\n",
    " - New Democratic Party.\n",
    " \n",
    "I also have a separate script to scrap the website of the three parties above as well as any random press release from any main Canadian newspaper and collect their presses releases. Such script can be found in the Github repo for this project.\n",
    "\n",
    "There are tons of really good articles explaining what Naive Bayes is, how it is applied and how to calculate the probability (my favourite is this one: https://monkeylearn.com/blog/practical-explanation-naive-bayes-classifier/) thus I will not spend too much time explaining the logic behind. Instead I will focus on explaining how I leveraged the methodology to this problem.\n",
    "\n",
    "My solution can be split into 3 main stages:\n",
    "\n",
    "1. Train a model using press releases from the political parties.\n",
    "2. Validate the model using press releases from political parties not used in the training section.\n",
    "3. Predict political preference/tone of a newspaper article using the model above. \n",
    "\n",
    "# Methodology\n",
    "The methodology is something very simple in statiscal modeling (and some would say even too simple), I will be using Naive Bayes to train the model and predict the probability of a press release being either one of the.\n",
    "\n",
    "**Naive Bayes** relies on Bayes probability to classify objects. We call these types of models in Statistics of pobabilitics classifiers. This is also a supervised model, which means that it needs to be trained or you need to have the real labels before you start the model. \n",
    "\n",
    "## Libraries used in the modeling part\n",
    "\n",
    "You will need to load the following libraries in your python/jupyter notebook file, I added why you need each one of them :): "
   ]
  },
  {
   "cell_type": "code",
   "execution_count": 23,
   "metadata": {},
   "outputs": [],
   "source": [
    "import pandas as pd #data manipulation\n",
    "import numpy as np #main math calculation\n",
    "import sklearn #modeling load\n",
    "import nltk #to tokenize the words\n",
    "from nltk.corpus import stopwords # to remove useless words to the model\n",
    "from sklearn.model_selection import train_test_split\n",
    "from sklearn.feature_extraction.text import CountVectorizer #count words when press releases are made into vectors\n",
    "from sklearn.preprocessing import OneHotEncoder, LabelEncoder #transform the labels\n",
    "from sklearn.naive_bayes import MultinomialNB #Naive Bayes fitter\n",
    "from sklearn.metrics import confusion_matrix #calculate confusion matrix\n",
    "import scikitplot as skplt #plot confusion matrix\n",
    "\n",
    "import warnings #remove warnings\n",
    "warnings.filterwarnings('ignore')"
   ]
  },
  {
   "cell_type": "markdown",
   "metadata": {},
   "source": [
    "## Data Preparation\n",
    "\n",
    "The data used in this file comes from the script run in [this repo](http://localhost:8888/notebooks/election2019/scrapper/canadian_party_pr_scraper.ipynb).\n",
    "\n",
    "First let's load the dataset and see how it looks like:"
   ]
  },
  {
   "cell_type": "code",
   "execution_count": 37,
   "metadata": {},
   "outputs": [
    {
     "data": {
      "text/html": [
       "<div>\n",
       "<style scoped>\n",
       "    .dataframe tbody tr th:only-of-type {\n",
       "        vertical-align: middle;\n",
       "    }\n",
       "\n",
       "    .dataframe tbody tr th {\n",
       "        vertical-align: top;\n",
       "    }\n",
       "\n",
       "    .dataframe thead th {\n",
       "        text-align: right;\n",
       "    }\n",
       "</style>\n",
       "<table border=\"1\" class=\"dataframe\">\n",
       "  <thead>\n",
       "    <tr style=\"text-align: right;\">\n",
       "      <th></th>\n",
       "      <th>party</th>\n",
       "      <th>url</th>\n",
       "      <th>content</th>\n",
       "      <th>date</th>\n",
       "    </tr>\n",
       "  </thead>\n",
       "  <tbody>\n",
       "    <tr>\n",
       "      <th>0</th>\n",
       "      <td>conservative</td>\n",
       "      <td>https://www.conservative.ca/the-hon-andrew-sch...</td>\n",
       "      <td>\\r\\nFOR IMMEDIATE RELEASE\\r\\nOttawa, ON – The ...</td>\n",
       "      <td>2019-07-11</td>\n",
       "    </tr>\n",
       "    <tr>\n",
       "      <th>1</th>\n",
       "      <td>conservative</td>\n",
       "      <td>https://www.conservative.ca/justin-trudeau-mus...</td>\n",
       "      <td>\\r\\nFOR IMMEDIATE RELEASE\\r\\n\\r\\nTORONTO, ON\\r...</td>\n",
       "      <td>2019-07-11</td>\n",
       "    </tr>\n",
       "    <tr>\n",
       "      <th>2</th>\n",
       "      <td>conservative</td>\n",
       "      <td>https://www.conservative.ca/justin-trudeaus-ba...</td>\n",
       "      <td>\\r\\nFOR IMMEDIATE RELEASE\\r\\nOTTAWA, ON – Pier...</td>\n",
       "      <td>2019-05-28</td>\n",
       "    </tr>\n",
       "    <tr>\n",
       "      <th>3</th>\n",
       "      <td>conservative</td>\n",
       "      <td>https://www.conservative.ca/conservatives-to-s...</td>\n",
       "      <td>\\r\\nNew conservative government to extend EI p...</td>\n",
       "      <td>2019-10-15</td>\n",
       "    </tr>\n",
       "    <tr>\n",
       "      <th>4</th>\n",
       "      <td>conservative</td>\n",
       "      <td>https://www.conservative.ca/andrew-scheer-reve...</td>\n",
       "      <td>\\r\\nConservatives unveil fully costed platform...</td>\n",
       "      <td>2019-10-11</td>\n",
       "    </tr>\n",
       "  </tbody>\n",
       "</table>\n",
       "</div>"
      ],
      "text/plain": [
       "          party                                                url  \\\n",
       "0  conservative  https://www.conservative.ca/the-hon-andrew-sch...   \n",
       "1  conservative  https://www.conservative.ca/justin-trudeau-mus...   \n",
       "2  conservative  https://www.conservative.ca/justin-trudeaus-ba...   \n",
       "3  conservative  https://www.conservative.ca/conservatives-to-s...   \n",
       "4  conservative  https://www.conservative.ca/andrew-scheer-reve...   \n",
       "\n",
       "                                             content        date  \n",
       "0  \\r\\nFOR IMMEDIATE RELEASE\\r\\nOttawa, ON – The ...  2019-07-11  \n",
       "1  \\r\\nFOR IMMEDIATE RELEASE\\r\\n\\r\\nTORONTO, ON\\r...  2019-07-11  \n",
       "2  \\r\\nFOR IMMEDIATE RELEASE\\r\\nOTTAWA, ON – Pier...  2019-05-28  \n",
       "3  \\r\\nNew conservative government to extend EI p...  2019-10-15  \n",
       "4  \\r\\nConservatives unveil fully costed platform...  2019-10-11  "
      ]
     },
     "execution_count": 37,
     "metadata": {},
     "output_type": "execute_result"
    }
   ],
   "source": [
    "df = pd.read_csv('canada_parties_pr.csv')\n",
    "df.head()"
   ]
  },
  {
   "cell_type": "markdown",
   "metadata": {},
   "source": [
    "In the dataframe above we need to remove the words that do not add anything to the setence, for example, words such as \"a, the, punctuations like ; and , also need to remove. And we are interested in two columns: party and content. Those will be the only columns that will be used to train our machine learning algorithm.\n",
    "After that we will need to separate the dataframe above into two sets: training and testing.\n",
    "This is what the code below does:"
   ]
  },
  {
   "cell_type": "code",
   "execution_count": 38,
   "metadata": {},
   "outputs": [],
   "source": [
    "#function that tokenize a sentence and remove stop words\n",
    "def sentence_to_word(df, column_name, stop):\n",
    "    \n",
    "    #lower case\n",
    "    df[column_name] = df[column_name].apply(lambda string: string.lower())\n",
    "    df['words'] = df[column_name].apply(nltk.word_tokenize)\n",
    "    df['words'] = df['words'].apply(lambda x: [item for item in x if item not in stop])\n",
    "    df['words'] = df['words'].apply(lambda x: [item for item in x if item.isalpha()])\n",
    "    \n",
    "    return df\n",
    "\n",
    "#define the stop words\n",
    "stop_extra = ['*', '#', '?', '$', '!', '&',  '%', '\\'','\\'ll', '\"','\\'\\'' '\\'m', '\\'re', '\\'ve', '(', ')', '\\'s', '-', '--']\n",
    "stop = stopwords.words('english') + stop_extra\n",
    "df = sentence_to_word(df, 'content', stop)\n",
    "\n",
    "#select the columns we mentioned before. \n",
    "#Here we are calling labels as y because this is what we want to predict\n",
    "#X is content because this is supposedly what it is given to us.\n",
    "y = df['party']\n",
    "X = df['content']\n",
    "\n",
    "#separate test and training\n",
    "# we are choosing 80% to training and 20% to testing\n",
    "X_train, X_test, y_train, y_test = train_test_split(X, y, test_size=0.2, random_state=42)"
   ]
  },
  {
   "cell_type": "markdown",
   "metadata": {},
   "source": [
    "Now we have both datasets looking exactly like what we need. \n",
    "\n",
    "## Data Modeling\n",
    "\n",
    "The first thing the algorithm will do is in the **training set** count #number of press releases per political party as well as the total #of press releases. Then it will count the #of times that each word shows per political party and the #of words per party.\n",
    "\n",
    "That will be used to calculate the Bayes probability in the function below:\n",
    "\n",
    "-- In the training set we calculate \n",
    "<center>\n",
    "    \\begin{align}\n",
    "    \\\\ P(X \\cap Y) = P(X| Y=y) P(Y)\n",
    "    \\end{align}\n",
    "</center>\n",
    "\n",
    "Which can be translated into:\n",
    "\n",
    "<center>\n",
    "    \\begin{align}\n",
    "    \\\\ P(content \\cap political party Y) = P(content| Party=y) P(party)\n",
    "    \\end{align}\n",
    "</center>\n",
    "\n",
    "Where:\n",
    "\n",
    "\n",
    "\\begin{equation*}\n",
    "\\\\P(content | Party) = \\frac{number\\_the\\_word\\_shows\\_by\\_party}{total\\_words\\_by\\_party} \n",
    "\\end{equation*}\n",
    "\n",
    "\\begin{equation*}\n",
    "\\\\P(Party) = \\frac{post\\_release\\_by\\_party}{total\\_post\\_release} \n",
    "\\end{equation*}\n",
    "\n",
    "\n",
    "And last but not least We will also tokenize the words. Tokenize is the process of getting a sentence, or writing passage and breaking into a vector of words. "
   ]
  },
  {
   "cell_type": "code",
   "execution_count": 48,
   "metadata": {},
   "outputs": [],
   "source": [
    "#tokenize the words in the content\n",
    "vect = CountVectorizer()\n",
    "X_train_vectorized = vect.fit_transform(X_train)\n",
    "ndf = pd.SparseDataFrame(\n",
    "    X_train_vectorized.toarray(), columns=vect.get_feature_names()\n",
    ")"
   ]
  },
  {
   "cell_type": "markdown",
   "metadata": {},
   "source": [
    "Now we are ready **to train** the model:"
   ]
  },
  {
   "cell_type": "code",
   "execution_count": 49,
   "metadata": {},
   "outputs": [],
   "source": [
    "#apply pre made model\n",
    "clfrNB = MultinomialNB()\n",
    "clfrNB = clfrNB.fit(X_train_vectorized, y_train)"
   ]
  },
  {
   "cell_type": "markdown",
   "metadata": {},
   "source": [
    "## Model Validation\n",
    "As I mentioned before, modeling a supervised type pf machine learning modeling invovles two steps, training and testing. Now we need to test if the probabilities calculated above are good predictors of data never seen before.\n",
    "\n",
    "At this point you might have asked yourselve the two questions below:\n",
    "\n",
    "### Why is this model called Naive Bayes?\n",
    "\n",
    "The reason why this method is called naive is because it considers the words independent of each other, ie., there is no bias or tendency of words showing up more when other words are present in a determined content, which we know that is not true.\n",
    "\n",
    "### What if a word that was not present in the training set shows up in the testing set?\n",
    "In the article that I added in this document, it touches on what to do in these cases, to simplify this model, I decided to use ***Laplace Smoother***. This method addes a value (1/ # unique words) to each probability which solves the fact that some words were never seen in the training set. \n",
    "\n",
    "Now we need to apply the training model to the test:"
   ]
  },
  {
   "cell_type": "code",
   "execution_count": 50,
   "metadata": {},
   "outputs": [],
   "source": [
    "y_pred = clfrNB.predict(vect.transform(X_test))"
   ]
  },
  {
   "cell_type": "markdown",
   "metadata": {},
   "source": [
    "And this is how I like to visualize. The plot below is called confusion matrix and it evaluates the real versus the predicted. From 101 press releases in the testing set, the model only misses 5, which is really good!!!"
   ]
  },
  {
   "cell_type": "code",
   "execution_count": 51,
   "metadata": {},
   "outputs": [
    {
     "data": {
      "image/png": "[encoded data removed]",
      "text/plain": [
       "<Figure size 432x288 with 2 Axes>"
      ]
     },
     "metadata": {
      "needs_background": "light"
     },
     "output_type": "display_data"
    }
   ],
   "source": [
    "skplt.metrics.plot_confusion_matrix(y_test, y_pred);"
   ]
  },
  {
   "cell_type": "markdown",
   "metadata": {},
   "source": [
    "# Ta-dã moment\n",
    "Now we upload an article that relates to polytics and see if it has a Liberal, Conservative or NDP tone to it:\n",
    "\n",
    "This is the article that I choose, but you can use the function below to retrieve it: https://www.thestar.com/news/canada/2020/04/18/canada-among-13-countries-uniting-to-demand-global-co-operation-russia-reports-biggest-increase-in-cases-spain-becomes-third-country-to-report-over-20000-virus-deaths.html"
   ]
  },
  {
   "cell_type": "code",
   "execution_count": 52,
   "metadata": {},
   "outputs": [],
   "source": [
    "#for scraping\n",
    "import requests\n",
    "from bs4 import BeautifulSoup\n",
    "#add data as dataframe and make math calculations\n",
    "import pandas as pd\n",
    "\n",
    "\n",
    "\n",
    "#article you want to test:\n",
    "webpage = 'https://www.thestar.com/news/canada/2020/04/18/canada-among-13-countries-uniting-to-demand-global-co-operation-russia-reports-biggest-increase-in-cases-spain-becomes-third-country-to-report-over-20000-virus-deaths.html'\n",
    "response = requests.get(webpage)\n",
    "soup = BeautifulSoup(response.text, 'lxml')\n",
    "class_name='.text-block-container'\n",
    "\n",
    "#gets all the content\n",
    "article = ''\n",
    "for text in soup.select(class_name):\n",
    "    article  += text.get_text()\n",
    "\n",
    "article_df =  pd.DataFrame(data= {'article':[article]})"
   ]
  },
  {
   "cell_type": "markdown",
   "metadata": {},
   "source": [
    "You need to tokenize the hold out data and call the same vectorized function used in the training **if you don't do this you won't have the same features in the holdout**"
   ]
  },
  {
   "cell_type": "code",
   "execution_count": 54,
   "metadata": {},
   "outputs": [],
   "source": [
    "#tokenize the words in the content\n",
    "\n",
    "X_validation = vect.transform(article_df[\"article\"])\n",
    "\n",
    "ndf = pd.SparseDataFrame(\n",
    "    X_validation.toarray(), columns=vect.get_feature_names()\n",
    ")"
   ]
  },
  {
   "cell_type": "code",
   "execution_count": 59,
   "metadata": {},
   "outputs": [
    {
     "name": "stdout",
     "output_type": "stream",
     "text": [
      "The Article has a tone closer to this party: ['NDP']\n"
     ]
    }
   ],
   "source": [
    "#calls the Naive Bayes trained model:\n",
    "y_pred = clfrNB.predict(X_validation)\n",
    "print(f'The Article has a tone closer to this party: {y_pred}')"
   ]
  }
 ],
 "metadata": {
  "kernelspec": {
   "display_name": "Python 3",
   "language": "python",
   "name": "python3"
  },
  "language_info": {
   "codemirror_mode": {
    "name": "ipython",
    "version": 3
   },
   "file_extension": ".py",
   "mimetype": "text/x-python",
   "name": "python",
   "nbconvert_exporter": "python",
   "pygments_lexer": "ipython3",
   "version": "3.7.1"
  }
 },
 "nbformat": 4,
 "nbformat_minor": 2
}
